{
 "cells": [
  {
   "cell_type": "code",
   "execution_count": 67,
   "metadata": {
    "scrolled": false
   },
   "outputs": [],
   "source": [
    "import urllib.request\n",
    "import urllib3\n",
    "import shutil"
   ]
  },
  {
   "cell_type": "code",
   "execution_count": 75,
   "metadata": {
    "scrolled": true
   },
   "outputs": [],
   "source": [
    "for j in range(180308, 180615):\n",
    "    for i in range(1,47):\n",
    "        url = \"http://www.edupro.pe.kr/edupro/gongin/2018/simhwa/minbub/{DATE}-gongin-simhwa-minbub-ym-{NO:02d}.mp3\".format(DATE=j, NO=i)\n",
    "        file_name = \"{0:02d}_심화_양민민법및민사특별법.mp3\".format(i)\n",
    "\n",
    "        try:\n",
    "            req = urllib.request.Request(url, data=None, headers={\"User-Agent\": \"Mozilla/5.0 (Windows NT 10.0; Win64; x64) AppleWebKit/537.36 (KHTML, like Gecko) Chrome/69.0.3497.100 Safari/537.36\"})\n",
    "\n",
    "            # Download the file from `url` and save it locally under `file_name`:\n",
    "            with urllib.request.urlopen(req) as response, open(file_name, 'wb') as out_file:\n",
    "                shutil.copyfileobj(response, out_file)\n",
    "        except:\n",
    "            continue"
   ]
  }
 ],
 "metadata": {
  "kernelspec": {
   "display_name": "Python 3",
   "language": "python",
   "name": "python3"
  },
  "language_info": {
   "codemirror_mode": {
    "name": "ipython",
    "version": 3
   },
   "file_extension": ".py",
   "mimetype": "text/x-python",
   "name": "python",
   "nbconvert_exporter": "python",
   "pygments_lexer": "ipython3",
   "version": "3.6.4"
  }
 },
 "nbformat": 4,
 "nbformat_minor": 2
}
