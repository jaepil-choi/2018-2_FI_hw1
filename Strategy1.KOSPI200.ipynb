{
 "cells": [
  {
   "cell_type": "markdown",
   "metadata": {},
   "source": [
    "# 투자전략 1: 모멘텀 투자 - KOSPI200"
   ]
  },
  {
   "cell_type": "markdown",
   "metadata": {},
   "source": [
    "![모멘텀 투자](img/momentum.png)"
   ]
  },
  {
   "cell_type": "code",
   "execution_count": 1,
   "metadata": {},
   "outputs": [],
   "source": [
    "import pandas as pd\n",
    "import numpy as np\n",
    "import matplotlib.pyplot as plt\n",
    "import pickle\n",
    "import logging\n",
    "from IPython.display import Image"
   ]
  },
  {
   "cell_type": "code",
   "execution_count": 15,
   "metadata": {},
   "outputs": [],
   "source": [
    "pd.options.display.max_columns = 100 # was 20\n",
    "pd.options.display.max_rows = 30 # was 60\n",
    "logger = logging.getLogger('zero_remove_logger')"
   ]
  },
  {
   "cell_type": "markdown",
   "metadata": {},
   "source": [
    "크롤링 과정 생략. "
   ]
  },
  {
   "cell_type": "code",
   "execution_count": 7,
   "metadata": {},
   "outputs": [],
   "source": [
    "df = pd.read_pickle('KOSPI200_2013-2018.p')"
   ]
  },
  {
   "cell_type": "code",
   "execution_count": 8,
   "metadata": {},
   "outputs": [],
   "source": [
    "t = pd.Timedelta('180 days') # 180일 간격으로 window가 움직인다. "
   ]
  },
  {
   "cell_type": "code",
   "execution_count": 11,
   "metadata": {},
   "outputs": [],
   "source": [
    "class MovingWindow:\n",
    "    def __init__(self):\n",
    "        self.top100firms = []\n",
    "        self.top100 = pd.DataFrame()\n",
    "        self.holding = pd.DataFrame()\n",
    "        self.window = pd.Timedelta('365 days')\n",
    "        self.balance = 0\n",
    "        self.total_investment = 1\n",
    "        self.current_date = pd.Timestamp('2016-12-30 00:00:00') # 너무 많은 주식들이 2014.12.31엔 0원이다.2015도... # 중요! S&P500 돌릴땐 12.30으로 해야함. 2016.12.31이 공휴일이었나봐. \n",
    "    \n",
    "    def get_top100(self):\n",
    "        basket = pd.DataFrame()\n",
    "        basket['firms'] = df.columns[1:]\n",
    "        basket['ipo_index'] = df.drop(['date'], axis=1).ne(0).idxmax().values #마지막에 values 붙여줘야 series를 df에 column으로 부착 가능. \n",
    "        basket['ipo_price'] = 0\n",
    "        \n",
    "        for idx, row in basket.iterrows(): # 이 부분이 iterrows 때문에 병목이 생기는 것으로 보임. \n",
    "            basket['ipo_price'][idx] = df.drop(['date'], axis=1)[row[\"firms\"]].iloc[row['ipo_index']]\n",
    "        basket['current_price'] = df.drop(['date'], axis=1).loc[df['date']==self.current_date].squeeze().values\n",
    "        \n",
    "        basket = basket[basket.current_price > basket.ipo_price] # +수익률만 남김.\n",
    "        \n",
    "        basket['price_change'] = 100*(basket.current_price - basket.ipo_price)/basket.ipo_price\n",
    "        basket = basket.sort_values(by='price_change', ascending=False) # 수익률 순으로 내림차순 정렬. \n",
    "        \n",
    "        basket['holding'] = 100\n",
    "        \n",
    "        self.top100 = basket.head(100)\n",
    "        self.holding = self.top100[['firms', 'holding']]\n",
    "        self.top100firms = list(self.top100.firms)\n",
    "        \n",
    "        self.top100['TR'] = self.top100.current_price * self.top100.holding\n",
    "        self.top100['TC'] = self.top100.current_price * self.top100.holding\n",
    "        \n",
    "        return self.top100\n",
    "        \n",
    "    def after_t_return(self):\n",
    "        self.current_date += t\n",
    "        basket = df[['date']+list(self.top100firms)]\n",
    "\n",
    "        self.top100['firms'] = self.top100firms\n",
    "        self.top100['current_price'] = basket[basket['date'] == self.current_date].drop(['date'], axis=1).squeeze().values\n",
    "        \n",
    "        self.top100['year_ago_price'] = basket[basket['date'] == (self.current_date - self.window)].drop(['date'], axis=1).squeeze().values\n",
    "        \n",
    "        for idx, row in self.top100.iterrows(): # t만큼 이동 후 1년 전의 시점에 아직 IPO가 안됐을 경우, 최초 IPO 가격으로 대체. \n",
    "            if row.year_ago_price == 0:\n",
    "                self.top100.year_ago_price[idx] = row.ipo_price\n",
    "                \n",
    "        self.top100['price_change'] = 100*(self.top100.current_price - self.top100.year_ago_price)/self.top100.year_ago_price\n",
    "        \n",
    "        self.top100 = self.top100.sort_values(by='price_change', ascending=False) # 수익률 순으로 내림차순 정렬. \n",
    "        \n",
    "        self.top100 = pd.merge(self.top100, self.holding, on=['firms'], suffixes=('_x', '')) #일단 그냥 중복 컬럼 생기게 두고, 지워버린다. \n",
    "        try:\n",
    "            self.top100 = self.top100.drop(['holding_x'], axis=1)\n",
    "            self.top100 = self.top100.drop(['current_price_x'], axis=1)\n",
    "        except:\n",
    "            pass\n",
    "    \n",
    "        self.top100.TR = self.top100.current_price * self.top100.holding\n",
    "        \n",
    "        self.top100['profit'] = self.top100.TR - self.top100.TC\n",
    "        self.top100['return'] = 100*(self.top100.profit / self.top100.TC)\n",
    "        \n",
    "        self.balance = self.top100['profit'].sum()\n",
    "        self.total_investment = self.top100['TC'].sum()\n",
    "        \n",
    "        return self.top100\n",
    "    \n",
    "    def buy_and_sell(self):                             \n",
    "        buy_firms = self.top100.head(10)['firms'].values\n",
    "        sell_firms = self.top100.tail(10)['firms'].values\n",
    "        \n",
    "        for f in buy_firms: # 중간에 매수한 비용은 해당 주식 매수 비용에 더함. \n",
    "            self.top100.loc[self.top100.firms == f, 'TC'] = self.top100.loc[self.top100.firms == f, 'TC'] + self.holding[self.holding.firms == f].holding.values[0] * 0.1 * self.top100.loc[self.top100.firms == f, 'current_price']\n",
    "            self.holding.loc[self.holding.firms == f, 'holding'] = self.holding[self.holding.firms == f].holding.values[0] * 1.1 #(rebalancing에서 총 투자금액이 아닌)주식 수량을 10% 늘리는건 좀 문제가 있을 것 같지만 그냥 함. \n",
    "        \n",
    "        for f in sell_firms: # 중간에 매도하여 얻은 차익은 balance에 더함. \n",
    "#             self.top100.loc[self.top100.firms == f, 'TC'] = self.top100.loc[self.top100.firms == f, 'TC'] - self.holding[self.holding.firms == f].holding.values[0] * 0.1 * self.top100.loc[self.top100.firms == f, 'current_price']\n",
    "            self.balance += self.holding[self.holding.firms == f].holding.values[0] * 0.1 * self.top100.loc[self.top100.firms == f, 'current_price'] \n",
    "            self.holding.loc[self.holding.firms == f, 'holding'] = self.holding[self.holding.firms == f].holding.values[0] * 0.9 #이것도. 수량을 10% 줄임. \n",
    "        \n",
    "        return self.holding\n",
    "    \n",
    "    def investment_return(self):\n",
    "        return 100*(self.balance / self.total_investment)\n",
    "        "
   ]
  },
  {
   "cell_type": "code",
   "execution_count": 18,
   "metadata": {},
   "outputs": [],
   "source": [
    "def after_t_result(s):\n",
    "    s.buy_and_sell()\n",
    "    s.after_t_return()\n",
    "    print(s.current_date)\n",
    "    print(\"net profit: \", s.balance)\n",
    "    print(\"total investment: \", s.total_investment)\n",
    "    print(\"investment return (%): \", s.investment_return())"
   ]
  },
  {
   "cell_type": "markdown",
   "metadata": {},
   "source": [
    "## 투자 시작. "
   ]
  },
  {
   "cell_type": "code",
   "execution_count": 16,
   "metadata": {},
   "outputs": [],
   "source": [
    "s1 = MovingWindow()"
   ]
  },
  {
   "cell_type": "markdown",
   "metadata": {},
   "source": [
    "### 1기: 주식 선택\n",
    "\n",
    "#### KOSPI200 중 2016년 12월 31일 기준으로 1년 전 가격과 비교하여 (또는 그 기간 중 IPO 가격) 가장 가격 증가율이 높은 100개를 골라 포트폴리오를 구성한다. "
   ]
  },
  {
   "cell_type": "code",
   "execution_count": 17,
   "metadata": {},
   "outputs": [
    {
     "name": "stderr",
     "output_type": "stream",
     "text": [
      "C:\\ProgramData\\Anaconda3\\lib\\site-packages\\ipykernel_launcher.py:18: SettingWithCopyWarning: \n",
      "A value is trying to be set on a copy of a slice from a DataFrame\n",
      "\n",
      "See the caveats in the documentation: http://pandas.pydata.org/pandas-docs/stable/indexing.html#indexing-view-versus-copy\n",
      "C:\\ProgramData\\Anaconda3\\lib\\site-packages\\ipykernel_launcher.py:32: SettingWithCopyWarning: \n",
      "A value is trying to be set on a copy of a slice from a DataFrame.\n",
      "Try using .loc[row_indexer,col_indexer] = value instead\n",
      "\n",
      "See the caveats in the documentation: http://pandas.pydata.org/pandas-docs/stable/indexing.html#indexing-view-versus-copy\n",
      "C:\\ProgramData\\Anaconda3\\lib\\site-packages\\ipykernel_launcher.py:33: SettingWithCopyWarning: \n",
      "A value is trying to be set on a copy of a slice from a DataFrame.\n",
      "Try using .loc[row_indexer,col_indexer] = value instead\n",
      "\n",
      "See the caveats in the documentation: http://pandas.pydata.org/pandas-docs/stable/indexing.html#indexing-view-versus-copy\n"
     ]
    },
    {
     "data": {
      "text/html": [
       "<div>\n",
       "<style scoped>\n",
       "    .dataframe tbody tr th:only-of-type {\n",
       "        vertical-align: middle;\n",
       "    }\n",
       "\n",
       "    .dataframe tbody tr th {\n",
       "        vertical-align: top;\n",
       "    }\n",
       "\n",
       "    .dataframe thead th {\n",
       "        text-align: right;\n",
       "    }\n",
       "</style>\n",
       "<table border=\"1\" class=\"dataframe\">\n",
       "  <thead>\n",
       "    <tr style=\"text-align: right;\">\n",
       "      <th></th>\n",
       "      <th>firms</th>\n",
       "      <th>ipo_index</th>\n",
       "      <th>ipo_price</th>\n",
       "      <th>current_price</th>\n",
       "      <th>price_change</th>\n",
       "      <th>holding</th>\n",
       "      <th>TR</th>\n",
       "      <th>TC</th>\n",
       "    </tr>\n",
       "  </thead>\n",
       "  <tbody>\n",
       "    <tr>\n",
       "      <th>187</th>\n",
       "      <td>영진약품</td>\n",
       "      <td>736</td>\n",
       "      <td>1280</td>\n",
       "      <td>8820.0</td>\n",
       "      <td>589.062500</td>\n",
       "      <td>100</td>\n",
       "      <td>882000.0</td>\n",
       "      <td>882000.0</td>\n",
       "    </tr>\n",
       "    <tr>\n",
       "      <th>100</th>\n",
       "      <td>대한유화</td>\n",
       "      <td>736</td>\n",
       "      <td>66600</td>\n",
       "      <td>275500.0</td>\n",
       "      <td>313.663664</td>\n",
       "      <td>100</td>\n",
       "      <td>27550000.0</td>\n",
       "      <td>27550000.0</td>\n",
       "    </tr>\n",
       "    <tr>\n",
       "      <th>135</th>\n",
       "      <td>한미사이언스</td>\n",
       "      <td>736</td>\n",
       "      <td>15650</td>\n",
       "      <td>61100.0</td>\n",
       "      <td>290.415335</td>\n",
       "      <td>100</td>\n",
       "      <td>6110000.0</td>\n",
       "      <td>6110000.0</td>\n",
       "    </tr>\n",
       "    <tr>\n",
       "      <th>58</th>\n",
       "      <td>JW홀딩스</td>\n",
       "      <td>736</td>\n",
       "      <td>2365</td>\n",
       "      <td>8880.0</td>\n",
       "      <td>275.475687</td>\n",
       "      <td>100</td>\n",
       "      <td>888000.0</td>\n",
       "      <td>888000.0</td>\n",
       "    </tr>\n",
       "    <tr>\n",
       "      <th>161</th>\n",
       "      <td>JW중외제약</td>\n",
       "      <td>736</td>\n",
       "      <td>14300</td>\n",
       "      <td>52700.0</td>\n",
       "      <td>268.531469</td>\n",
       "      <td>100</td>\n",
       "      <td>5270000.0</td>\n",
       "      <td>5270000.0</td>\n",
       "    </tr>\n",
       "    <tr>\n",
       "      <th>169</th>\n",
       "      <td>DB하이텍</td>\n",
       "      <td>736</td>\n",
       "      <td>4450</td>\n",
       "      <td>15900.0</td>\n",
       "      <td>257.303371</td>\n",
       "      <td>100</td>\n",
       "      <td>1590000.0</td>\n",
       "      <td>1590000.0</td>\n",
       "    </tr>\n",
       "    <tr>\n",
       "      <th>122</th>\n",
       "      <td>한올바이오파마</td>\n",
       "      <td>736</td>\n",
       "      <td>3745</td>\n",
       "      <td>13150.0</td>\n",
       "      <td>251.134846</td>\n",
       "      <td>100</td>\n",
       "      <td>1315000.0</td>\n",
       "      <td>1315000.0</td>\n",
       "    </tr>\n",
       "    <tr>\n",
       "      <th>159</th>\n",
       "      <td>동양</td>\n",
       "      <td>736</td>\n",
       "      <td>914</td>\n",
       "      <td>2985.0</td>\n",
       "      <td>226.586433</td>\n",
       "      <td>100</td>\n",
       "      <td>298500.0</td>\n",
       "      <td>298500.0</td>\n",
       "    </tr>\n",
       "    <tr>\n",
       "      <th>35</th>\n",
       "      <td>한미약품</td>\n",
       "      <td>736</td>\n",
       "      <td>97600</td>\n",
       "      <td>305500.0</td>\n",
       "      <td>213.012295</td>\n",
       "      <td>100</td>\n",
       "      <td>30550000.0</td>\n",
       "      <td>30550000.0</td>\n",
       "    </tr>\n",
       "    <tr>\n",
       "      <th>2</th>\n",
       "      <td>셀트리온</td>\n",
       "      <td>736</td>\n",
       "      <td>37900</td>\n",
       "      <td>107400.0</td>\n",
       "      <td>183.377309</td>\n",
       "      <td>100</td>\n",
       "      <td>10740000.0</td>\n",
       "      <td>10740000.0</td>\n",
       "    </tr>\n",
       "    <tr>\n",
       "      <th>115</th>\n",
       "      <td>동원시스템즈</td>\n",
       "      <td>736</td>\n",
       "      <td>22900</td>\n",
       "      <td>59700.0</td>\n",
       "      <td>160.698690</td>\n",
       "      <td>100</td>\n",
       "      <td>5970000.0</td>\n",
       "      <td>5970000.0</td>\n",
       "    </tr>\n",
       "    <tr>\n",
       "      <th>118</th>\n",
       "      <td>롯데케미칼</td>\n",
       "      <td>736</td>\n",
       "      <td>147500</td>\n",
       "      <td>369000.0</td>\n",
       "      <td>150.169492</td>\n",
       "      <td>100</td>\n",
       "      <td>36900000.0</td>\n",
       "      <td>36900000.0</td>\n",
       "    </tr>\n",
       "    <tr>\n",
       "      <th>61</th>\n",
       "      <td>후성</td>\n",
       "      <td>736</td>\n",
       "      <td>3080</td>\n",
       "      <td>7340.0</td>\n",
       "      <td>138.311688</td>\n",
       "      <td>100</td>\n",
       "      <td>734000.0</td>\n",
       "      <td>734000.0</td>\n",
       "    </tr>\n",
       "    <tr>\n",
       "      <th>183</th>\n",
       "      <td>효성</td>\n",
       "      <td>736</td>\n",
       "      <td>65200</td>\n",
       "      <td>145500.0</td>\n",
       "      <td>123.159509</td>\n",
       "      <td>100</td>\n",
       "      <td>14550000.0</td>\n",
       "      <td>14550000.0</td>\n",
       "    </tr>\n",
       "    <tr>\n",
       "      <th>180</th>\n",
       "      <td>한화케미칼</td>\n",
       "      <td>736</td>\n",
       "      <td>11200</td>\n",
       "      <td>24700.0</td>\n",
       "      <td>120.535714</td>\n",
       "      <td>100</td>\n",
       "      <td>2470000.0</td>\n",
       "      <td>2470000.0</td>\n",
       "    </tr>\n",
       "    <tr>\n",
       "      <th>...</th>\n",
       "      <td>...</td>\n",
       "      <td>...</td>\n",
       "      <td>...</td>\n",
       "      <td>...</td>\n",
       "      <td>...</td>\n",
       "      <td>...</td>\n",
       "      <td>...</td>\n",
       "      <td>...</td>\n",
       "    </tr>\n",
       "    <tr>\n",
       "      <th>158</th>\n",
       "      <td>SK디스커버리</td>\n",
       "      <td>736</td>\n",
       "      <td>62600</td>\n",
       "      <td>67000.0</td>\n",
       "      <td>7.028754</td>\n",
       "      <td>100</td>\n",
       "      <td>6700000.0</td>\n",
       "      <td>6700000.0</td>\n",
       "    </tr>\n",
       "    <tr>\n",
       "      <th>85</th>\n",
       "      <td>신한지주</td>\n",
       "      <td>736</td>\n",
       "      <td>42500</td>\n",
       "      <td>45250.0</td>\n",
       "      <td>6.470588</td>\n",
       "      <td>100</td>\n",
       "      <td>4525000.0</td>\n",
       "      <td>4525000.0</td>\n",
       "    </tr>\n",
       "    <tr>\n",
       "      <th>177</th>\n",
       "      <td>SPC삼립</td>\n",
       "      <td>736</td>\n",
       "      <td>160000</td>\n",
       "      <td>169500.0</td>\n",
       "      <td>5.937500</td>\n",
       "      <td>100</td>\n",
       "      <td>16950000.0</td>\n",
       "      <td>16950000.0</td>\n",
       "    </tr>\n",
       "    <tr>\n",
       "      <th>49</th>\n",
       "      <td>NAVER</td>\n",
       "      <td>736</td>\n",
       "      <td>732000</td>\n",
       "      <td>775000.0</td>\n",
       "      <td>5.874317</td>\n",
       "      <td>100</td>\n",
       "      <td>77500000.0</td>\n",
       "      <td>77500000.0</td>\n",
       "    </tr>\n",
       "    <tr>\n",
       "      <th>176</th>\n",
       "      <td>쌍용양회공업</td>\n",
       "      <td>736</td>\n",
       "      <td>14050</td>\n",
       "      <td>14800.0</td>\n",
       "      <td>5.338078</td>\n",
       "      <td>100</td>\n",
       "      <td>1480000.0</td>\n",
       "      <td>1480000.0</td>\n",
       "    </tr>\n",
       "    <tr>\n",
       "      <th>10</th>\n",
       "      <td>삼성바이오로직스</td>\n",
       "      <td>1409</td>\n",
       "      <td>144000</td>\n",
       "      <td>151000.0</td>\n",
       "      <td>4.861111</td>\n",
       "      <td>100</td>\n",
       "      <td>15100000.0</td>\n",
       "      <td>15100000.0</td>\n",
       "    </tr>\n",
       "    <tr>\n",
       "      <th>185</th>\n",
       "      <td>두산</td>\n",
       "      <td>736</td>\n",
       "      <td>101500</td>\n",
       "      <td>105000.0</td>\n",
       "      <td>3.448276</td>\n",
       "      <td>100</td>\n",
       "      <td>10500000.0</td>\n",
       "      <td>10500000.0</td>\n",
       "    </tr>\n",
       "    <tr>\n",
       "      <th>164</th>\n",
       "      <td>넥센타이어</td>\n",
       "      <td>736</td>\n",
       "      <td>12700</td>\n",
       "      <td>13000.0</td>\n",
       "      <td>2.362205</td>\n",
       "      <td>100</td>\n",
       "      <td>1300000.0</td>\n",
       "      <td>1300000.0</td>\n",
       "    </tr>\n",
       "    <tr>\n",
       "      <th>145</th>\n",
       "      <td>신세계</td>\n",
       "      <td>736</td>\n",
       "      <td>172000</td>\n",
       "      <td>176000.0</td>\n",
       "      <td>2.325581</td>\n",
       "      <td>100</td>\n",
       "      <td>17600000.0</td>\n",
       "      <td>17600000.0</td>\n",
       "    </tr>\n",
       "    <tr>\n",
       "      <th>80</th>\n",
       "      <td>대웅제약</td>\n",
       "      <td>736</td>\n",
       "      <td>67200</td>\n",
       "      <td>68700.0</td>\n",
       "      <td>2.232143</td>\n",
       "      <td>100</td>\n",
       "      <td>6870000.0</td>\n",
       "      <td>6870000.0</td>\n",
       "    </tr>\n",
       "    <tr>\n",
       "      <th>127</th>\n",
       "      <td>한국전력공사</td>\n",
       "      <td>736</td>\n",
       "      <td>43150</td>\n",
       "      <td>44050.0</td>\n",
       "      <td>2.085747</td>\n",
       "      <td>100</td>\n",
       "      <td>4405000.0</td>\n",
       "      <td>4405000.0</td>\n",
       "    </tr>\n",
       "    <tr>\n",
       "      <th>95</th>\n",
       "      <td>한국가스공사</td>\n",
       "      <td>736</td>\n",
       "      <td>47600</td>\n",
       "      <td>48450.0</td>\n",
       "      <td>1.785714</td>\n",
       "      <td>100</td>\n",
       "      <td>4845000.0</td>\n",
       "      <td>4845000.0</td>\n",
       "    </tr>\n",
       "    <tr>\n",
       "      <th>44</th>\n",
       "      <td>SK</td>\n",
       "      <td>736</td>\n",
       "      <td>225500</td>\n",
       "      <td>229500.0</td>\n",
       "      <td>1.773836</td>\n",
       "      <td>100</td>\n",
       "      <td>22950000.0</td>\n",
       "      <td>22950000.0</td>\n",
       "    </tr>\n",
       "    <tr>\n",
       "      <th>167</th>\n",
       "      <td>LG상사</td>\n",
       "      <td>736</td>\n",
       "      <td>28900</td>\n",
       "      <td>29250.0</td>\n",
       "      <td>1.211073</td>\n",
       "      <td>100</td>\n",
       "      <td>2925000.0</td>\n",
       "      <td>2925000.0</td>\n",
       "    </tr>\n",
       "    <tr>\n",
       "      <th>66</th>\n",
       "      <td>하나금융지주</td>\n",
       "      <td>736</td>\n",
       "      <td>30950</td>\n",
       "      <td>31250.0</td>\n",
       "      <td>0.969305</td>\n",
       "      <td>100</td>\n",
       "      <td>3125000.0</td>\n",
       "      <td>3125000.0</td>\n",
       "    </tr>\n",
       "  </tbody>\n",
       "</table>\n",
       "<p>100 rows × 8 columns</p>\n",
       "</div>"
      ],
      "text/plain": [
       "        firms  ipo_index  ipo_price  current_price  price_change  holding  \\\n",
       "187      영진약품        736       1280         8820.0    589.062500      100   \n",
       "100      대한유화        736      66600       275500.0    313.663664      100   \n",
       "135    한미사이언스        736      15650        61100.0    290.415335      100   \n",
       "58      JW홀딩스        736       2365         8880.0    275.475687      100   \n",
       "161    JW중외제약        736      14300        52700.0    268.531469      100   \n",
       "169     DB하이텍        736       4450        15900.0    257.303371      100   \n",
       "122   한올바이오파마        736       3745        13150.0    251.134846      100   \n",
       "159        동양        736        914         2985.0    226.586433      100   \n",
       "35       한미약품        736      97600       305500.0    213.012295      100   \n",
       "2        셀트리온        736      37900       107400.0    183.377309      100   \n",
       "115    동원시스템즈        736      22900        59700.0    160.698690      100   \n",
       "118     롯데케미칼        736     147500       369000.0    150.169492      100   \n",
       "61         후성        736       3080         7340.0    138.311688      100   \n",
       "183        효성        736      65200       145500.0    123.159509      100   \n",
       "180     한화케미칼        736      11200        24700.0    120.535714      100   \n",
       "..        ...        ...        ...            ...           ...      ...   \n",
       "158   SK디스커버리        736      62600        67000.0      7.028754      100   \n",
       "85       신한지주        736      42500        45250.0      6.470588      100   \n",
       "177     SPC삼립        736     160000       169500.0      5.937500      100   \n",
       "49      NAVER        736     732000       775000.0      5.874317      100   \n",
       "176    쌍용양회공업        736      14050        14800.0      5.338078      100   \n",
       "10   삼성바이오로직스       1409     144000       151000.0      4.861111      100   \n",
       "185        두산        736     101500       105000.0      3.448276      100   \n",
       "164     넥센타이어        736      12700        13000.0      2.362205      100   \n",
       "145       신세계        736     172000       176000.0      2.325581      100   \n",
       "80       대웅제약        736      67200        68700.0      2.232143      100   \n",
       "127    한국전력공사        736      43150        44050.0      2.085747      100   \n",
       "95     한국가스공사        736      47600        48450.0      1.785714      100   \n",
       "44         SK        736     225500       229500.0      1.773836      100   \n",
       "167      LG상사        736      28900        29250.0      1.211073      100   \n",
       "66     하나금융지주        736      30950        31250.0      0.969305      100   \n",
       "\n",
       "             TR          TC  \n",
       "187    882000.0    882000.0  \n",
       "100  27550000.0  27550000.0  \n",
       "135   6110000.0   6110000.0  \n",
       "58     888000.0    888000.0  \n",
       "161   5270000.0   5270000.0  \n",
       "169   1590000.0   1590000.0  \n",
       "122   1315000.0   1315000.0  \n",
       "159    298500.0    298500.0  \n",
       "35   30550000.0  30550000.0  \n",
       "2    10740000.0  10740000.0  \n",
       "115   5970000.0   5970000.0  \n",
       "118  36900000.0  36900000.0  \n",
       "61     734000.0    734000.0  \n",
       "183  14550000.0  14550000.0  \n",
       "180   2470000.0   2470000.0  \n",
       "..          ...         ...  \n",
       "158   6700000.0   6700000.0  \n",
       "85    4525000.0   4525000.0  \n",
       "177  16950000.0  16950000.0  \n",
       "49   77500000.0  77500000.0  \n",
       "176   1480000.0   1480000.0  \n",
       "10   15100000.0  15100000.0  \n",
       "185  10500000.0  10500000.0  \n",
       "164   1300000.0   1300000.0  \n",
       "145  17600000.0  17600000.0  \n",
       "80    6870000.0   6870000.0  \n",
       "127   4405000.0   4405000.0  \n",
       "95    4845000.0   4845000.0  \n",
       "44   22950000.0  22950000.0  \n",
       "167   2925000.0   2925000.0  \n",
       "66    3125000.0   3125000.0  \n",
       "\n",
       "[100 rows x 8 columns]"
      ]
     },
     "execution_count": 17,
     "metadata": {},
     "output_type": "execute_result"
    }
   ],
   "source": [
    "s1.get_top100()"
   ]
  },
  {
   "cell_type": "code",
   "execution_count": 14,
   "metadata": {
    "scrolled": true
   },
   "outputs": [
    {
     "data": {
      "text/plain": [
       "Timestamp('2016-12-30 00:00:00')"
      ]
     },
     "execution_count": 14,
     "metadata": {},
     "output_type": "execute_result"
    }
   ],
   "source": [
    "s1.current_date"
   ]
  },
  {
   "cell_type": "markdown",
   "metadata": {},
   "source": [
    "\n",
    "### 2기: t(여기선 6개월)가 지난 후 100개의 포트폴리오를 재평가."
   ]
  },
  {
   "cell_type": "markdown",
   "metadata": {},
   "source": [
    "#### 이 시점에서 번 돈과(각 주식 profit의 총 합 = balance) 투자한 총 금액(각 주식 Total Cost의 총 합 = total investment), 그리고 전체 투자의 수익률을 확인한다. (%) "
   ]
  },
  {
   "cell_type": "code",
   "execution_count": 19,
   "metadata": {},
   "outputs": [
    {
     "name": "stderr",
     "output_type": "stream",
     "text": [
      "C:\\ProgramData\\Anaconda3\\lib\\site-packages\\pandas\\core\\indexing.py:543: SettingWithCopyWarning: \n",
      "A value is trying to be set on a copy of a slice from a DataFrame.\n",
      "Try using .loc[row_indexer,col_indexer] = value instead\n",
      "\n",
      "See the caveats in the documentation: http://pandas.pydata.org/pandas-docs/stable/indexing.html#indexing-view-versus-copy\n",
      "  self.obj[item] = s\n"
     ]
    },
    {
     "name": "stdout",
     "output_type": "stream",
     "text": [
      "2017-06-28 00:00:00\n",
      "net profit:  156938900.0\n",
      "total investment:  1483273350.0\n",
      "investment return (%):  10.580578421367848\n"
     ]
    },
    {
     "name": "stderr",
     "output_type": "stream",
     "text": [
      "C:\\ProgramData\\Anaconda3\\lib\\site-packages\\ipykernel_launcher.py:48: SettingWithCopyWarning: \n",
      "A value is trying to be set on a copy of a slice from a DataFrame\n",
      "\n",
      "See the caveats in the documentation: http://pandas.pydata.org/pandas-docs/stable/indexing.html#indexing-view-versus-copy\n"
     ]
    }
   ],
   "source": [
    "after_t_result(s1)"
   ]
  },
  {
   "cell_type": "markdown",
   "metadata": {},
   "source": [
    "\n",
    "### 3기: t(여기선 6개월)가 지난 후 100개의 포트폴리오를 재평가."
   ]
  },
  {
   "cell_type": "markdown",
   "metadata": {},
   "source": [
    "#### 이 시점에서 번 돈과(각 주식 profit의 총 합 = balance) 투자한 총 금액(각 주식 Total Cost의 총 합 = total investment), 그리고 전체 투자의 수익률을 확인한다. (%) "
   ]
  },
  {
   "cell_type": "code",
   "execution_count": 20,
   "metadata": {
    "scrolled": true
   },
   "outputs": [
    {
     "name": "stderr",
     "output_type": "stream",
     "text": [
      "C:\\ProgramData\\Anaconda3\\lib\\site-packages\\pandas\\core\\indexing.py:543: SettingWithCopyWarning: \n",
      "A value is trying to be set on a copy of a slice from a DataFrame.\n",
      "Try using .loc[row_indexer,col_indexer] = value instead\n",
      "\n",
      "See the caveats in the documentation: http://pandas.pydata.org/pandas-docs/stable/indexing.html#indexing-view-versus-copy\n",
      "  self.obj[item] = s\n"
     ]
    },
    {
     "name": "stdout",
     "output_type": "stream",
     "text": [
      "2017-12-25 00:00:00\n",
      "net profit:  229979215.00000006\n",
      "total investment:  1516702900.0\n",
      "investment return (%):  15.163102477090277\n"
     ]
    }
   ],
   "source": [
    "after_t_result(s1)"
   ]
  },
  {
   "cell_type": "markdown",
   "metadata": {},
   "source": [
    "\n",
    "### 4기: t(여기선 6개월)가 지난 후 100개의 포트폴리오를 재평가."
   ]
  },
  {
   "cell_type": "markdown",
   "metadata": {},
   "source": [
    "#### 이 시점에서 번 돈과(각 주식 profit의 총 합 = balance) 투자한 총 금액(각 주식 Total Cost의 총 합 = total investment), 그리고 전체 투자의 수익률을 확인한다. (%) "
   ]
  },
  {
   "cell_type": "code",
   "execution_count": 21,
   "metadata": {
    "scrolled": true
   },
   "outputs": [
    {
     "name": "stderr",
     "output_type": "stream",
     "text": [
      "C:\\ProgramData\\Anaconda3\\lib\\site-packages\\pandas\\core\\indexing.py:543: SettingWithCopyWarning: \n",
      "A value is trying to be set on a copy of a slice from a DataFrame.\n",
      "Try using .loc[row_indexer,col_indexer] = value instead\n",
      "\n",
      "See the caveats in the documentation: http://pandas.pydata.org/pandas-docs/stable/indexing.html#indexing-view-versus-copy\n",
      "  self.obj[item] = s\n"
     ]
    },
    {
     "name": "stdout",
     "output_type": "stream",
     "text": [
      "2018-06-23 00:00:00\n",
      "net profit:  -106326674.99999997\n",
      "total investment:  1536556845.0\n",
      "investment return (%):  -6.919800939743298\n"
     ]
    }
   ],
   "source": [
    "after_t_result(s1)"
   ]
  },
  {
   "cell_type": "markdown",
   "metadata": {},
   "source": [
    "그런데 이럴 수가... 삼성전자 분할 후 폭락했다고 나온다. 네이버 금융은 조정 종가(adjusted closing price)를 계산해서 넣어두지 않았던 것이다. "
   ]
  },
  {
   "cell_type": "code",
   "execution_count": 22,
   "metadata": {},
   "outputs": [],
   "source": [
    "df2 = df.set_index('date')"
   ]
  },
  {
   "cell_type": "code",
   "execution_count": 23,
   "metadata": {
    "scrolled": true
   },
   "outputs": [
    {
     "data": {
      "text/plain": [
       "<matplotlib.axes._subplots.AxesSubplot at 0x1fcb007b518>"
      ]
     },
     "execution_count": 23,
     "metadata": {},
     "output_type": "execute_result"
    },
    {
     "data": {
      "image/png": "[encoded data removed]",
      "text/plain": [
       "<matplotlib.figure.Figure at 0x1fcb0011dd8>"
      ]
     },
     "metadata": {},
     "output_type": "display_data"
    }
   ],
   "source": [
    "df2[\"삼성전자\"].plot()"
   ]
  }
 ],
 "metadata": {
  "kernelspec": {
   "display_name": "Python 3",
   "language": "python",
   "name": "python3"
  },
  "language_info": {
   "codemirror_mode": {
    "name": "ipython",
    "version": 3
   },
   "file_extension": ".py",
   "mimetype": "text/x-python",
   "name": "python",
   "nbconvert_exporter": "python",
   "pygments_lexer": "ipython3",
   "version": "3.6.4"
  }
 },
 "nbformat": 4,
 "nbformat_minor": 2
}
